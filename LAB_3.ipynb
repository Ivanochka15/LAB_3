{
 "cells": [
  {
   "cell_type": "code",
   "execution_count": 6,
   "metadata": {},
   "outputs": [],
   "source": [
    "import tensorflow as tf\n",
    "from tensorflow.keras.datasets import fashion_mnist\n",
    "import numpy as np"
   ]
  },
  {
   "cell_type": "code",
   "execution_count": 3,
   "metadata": {},
   "outputs": [
    {
     "name": "stdout",
     "output_type": "stream",
     "text": [
      "Downloading data from https://storage.googleapis.com/tensorflow/tf-keras-datasets/train-labels-idx1-ubyte.gz\n",
      "29515/29515 [==============================] - 0s 1us/step\n",
      "Downloading data from https://storage.googleapis.com/tensorflow/tf-keras-datasets/train-images-idx3-ubyte.gz\n",
      "26421880/26421880 [==============================] - 94s 4us/step\n",
      "Downloading data from https://storage.googleapis.com/tensorflow/tf-keras-datasets/t10k-labels-idx1-ubyte.gz\n",
      "5148/5148 [==============================] - 0s 0s/step\n",
      "Downloading data from https://storage.googleapis.com/tensorflow/tf-keras-datasets/t10k-images-idx3-ubyte.gz\n",
      "4422102/4422102 [==============================] - 1s 0us/step\n"
     ]
    }
   ],
   "source": [
    "(train_data, train_labels), (test_data, test_labels) = fashion_mnist.load_data()"
   ]
  },
  {
   "cell_type": "code",
   "execution_count": 60,
   "metadata": {},
   "outputs": [],
   "source": [
    "classes = {\n",
    "    'Name': ['Sandal', 'Pullover', 'Bag'],\n",
    "    'Index': [5, 2, 8]\n",
    "}\n",
    "train_filter = np.isin(train_labels, classes['Index'])\n",
    "test_filter = np.isin(test_labels, classes['Index'])\n",
    "x_train, y_train = train_data[train_filter], train_labels[train_filter]\n",
    "x_test, y_test = test_data[test_filter], test_labels[test_filter]\n",
    "\n",
    "y_train[y_train == 5] = 0\n",
    "y_train[y_train == 2] = 1\n",
    "y_train[y_train == 8] = 2\n",
    "y_test[y_test == 5] = 0\n",
    "y_test[y_test == 2] = 1\n",
    "y_test[y_test == 8] = 2\n",
    "\n",
    "classes['Index'] = [0, 1, 2]"
   ]
  },
  {
   "cell_type": "code",
   "execution_count": 61,
   "metadata": {},
   "outputs": [
    {
     "name": "stdout",
     "output_type": "stream",
     "text": [
      "Epoch 1/10\n",
      "563/563 [==============================] - 3s 3ms/step - loss: 1.0740 - accuracy: 0.4346 - val_loss: 0.9031 - val_accuracy: 0.5250\n",
      "Epoch 2/10\n",
      "563/563 [==============================] - 1s 3ms/step - loss: 0.7022 - accuracy: 0.6388 - val_loss: 0.5297 - val_accuracy: 0.7913\n",
      "Epoch 3/10\n",
      "563/563 [==============================] - 1s 3ms/step - loss: 0.3004 - accuracy: 0.9332 - val_loss: 0.2168 - val_accuracy: 0.9717\n",
      "Epoch 4/10\n",
      "563/563 [==============================] - 1s 3ms/step - loss: 0.1573 - accuracy: 0.9761 - val_loss: 0.1474 - val_accuracy: 0.9767\n",
      "Epoch 5/10\n",
      "563/563 [==============================] - 1s 3ms/step - loss: 0.1113 - accuracy: 0.9808 - val_loss: 0.1204 - val_accuracy: 0.9807\n",
      "Epoch 6/10\n",
      "563/563 [==============================] - 1s 3ms/step - loss: 0.0891 - accuracy: 0.9834 - val_loss: 0.1193 - val_accuracy: 0.9713\n",
      "Epoch 7/10\n",
      "563/563 [==============================] - 2s 3ms/step - loss: 0.0781 - accuracy: 0.9844 - val_loss: 0.0953 - val_accuracy: 0.9840\n",
      "Epoch 8/10\n",
      "563/563 [==============================] - 1s 3ms/step - loss: 0.0788 - accuracy: 0.9834 - val_loss: 0.1208 - val_accuracy: 0.9773\n",
      "Epoch 9/10\n",
      "563/563 [==============================] - 1s 3ms/step - loss: 0.0686 - accuracy: 0.9852 - val_loss: 0.1065 - val_accuracy: 0.9830\n",
      "Epoch 10/10\n",
      "563/563 [==============================] - 1s 3ms/step - loss: 0.0667 - accuracy: 0.9858 - val_loss: 0.0776 - val_accuracy: 0.9793\n"
     ]
    }
   ],
   "source": [
    "model = tf.keras.Sequential([\n",
    "  tf.keras.layers.Flatten(input_shape=(28, 28)), \n",
    "  tf.keras.layers.Dense(4, activation=\"relu\"),\n",
    "  tf.keras.layers.Dense(4, activation=\"relu\"),\n",
    "  tf.keras.layers.Dense(3, activation=\"softmax\") \n",
    "])\n",
    "\n",
    "model.compile(loss=tf.keras.losses.SparseCategoricalCrossentropy(), \n",
    "                 optimizer=tf.keras.optimizers.Adam(),\n",
    "                 metrics=[\"accuracy\"])\n",
    "\n",
    "non_norm_history = model.fit(x_train,\n",
    "                                y_train,\n",
    "                                epochs=10,\n",
    "                                validation_data=(x_test, y_test))"
   ]
  },
  {
   "cell_type": "code",
   "execution_count": 66,
   "metadata": {},
   "outputs": [
    {
     "name": "stdout",
     "output_type": "stream",
     "text": [
      "Epoch 1/10\n",
      "563/563 [==============================] - 3s 3ms/step - loss: 0.8965 - accuracy: 0.6471 - val_loss: 0.5468 - val_accuracy: 0.7200\n",
      "Epoch 2/10\n",
      "563/563 [==============================] - 1s 2ms/step - loss: 0.3979 - accuracy: 0.8729 - val_loss: 0.2929 - val_accuracy: 0.9380\n",
      "Epoch 3/10\n",
      "563/563 [==============================] - 1s 3ms/step - loss: 0.2451 - accuracy: 0.9388 - val_loss: 0.2249 - val_accuracy: 0.9377\n",
      "Epoch 4/10\n",
      "563/563 [==============================] - 1s 2ms/step - loss: 0.1952 - accuracy: 0.9467 - val_loss: 0.1789 - val_accuracy: 0.9513\n",
      "Epoch 5/10\n",
      "563/563 [==============================] - 1s 2ms/step - loss: 0.1692 - accuracy: 0.9521 - val_loss: 0.1828 - val_accuracy: 0.9507\n",
      "Epoch 6/10\n",
      "563/563 [==============================] - 1s 2ms/step - loss: 0.1541 - accuracy: 0.9547 - val_loss: 0.1611 - val_accuracy: 0.9523\n",
      "Epoch 7/10\n",
      "563/563 [==============================] - 1s 2ms/step - loss: 0.1435 - accuracy: 0.9572 - val_loss: 0.1496 - val_accuracy: 0.9590\n",
      "Epoch 8/10\n",
      "563/563 [==============================] - 1s 3ms/step - loss: 0.1395 - accuracy: 0.9579 - val_loss: 0.1480 - val_accuracy: 0.9563\n",
      "Epoch 9/10\n",
      "563/563 [==============================] - 2s 3ms/step - loss: 0.1369 - accuracy: 0.9579 - val_loss: 0.1462 - val_accuracy: 0.9620\n",
      "Epoch 10/10\n",
      "563/563 [==============================] - 1s 2ms/step - loss: 0.1344 - accuracy: 0.9568 - val_loss: 0.1483 - val_accuracy: 0.9580\n"
     ]
    }
   ],
   "source": [
    "tf.random.set_seed(42)\n",
    "\n",
    "model_2 = tf.keras.Sequential([\n",
    "  tf.keras.layers.Flatten(input_shape=(28, 28)), \n",
    "  tf.keras.layers.Dense(4, activation=\"relu\"),\n",
    "  tf.keras.layers.Dense(4, activation=\"relu\"),\n",
    "  tf.keras.layers.Dense(3, activation=\"softmax\")\n",
    "])\n",
    "\n",
    "# Compile the model\n",
    "model_2.compile(loss=tf.keras.losses.SparseCategoricalCrossentropy(),\n",
    "                 optimizer=tf.keras.optimizers.Adam(learning_rate=0.001*3), \n",
    "                 metrics=[\"accuracy\"])\n",
    "\n",
    "# Fit the model\n",
    "history = model_2.fit(x_train,\n",
    "                       y_train,\n",
    "                       epochs=10,\n",
    "                       validation_data=(x_test, y_test))"
   ]
  },
  {
   "cell_type": "code",
   "execution_count": 70,
   "metadata": {},
   "outputs": [
    {
     "name": "stdout",
     "output_type": "stream",
     "text": [
      "94/94 [==============================] - 0s 2ms/step\n"
     ]
    }
   ],
   "source": [
    "y_probs = model_2.predict(x_test) # \"probs\" is short for probabilities"
   ]
  },
  {
   "cell_type": "code",
   "execution_count": 73,
   "metadata": {},
   "outputs": [
    {
     "name": "stdout",
     "output_type": "stream",
     "text": [
      "94/94 [==============================] - 0s 2ms/step\n"
     ]
    },
    {
     "data": {
      "image/png": "[encoded data removed]",
      "text/plain": [
       "<Figure size 432x288 with 2 Axes>"
      ]
     },
     "metadata": {
      "needs_background": "light"
     },
     "output_type": "display_data"
    }
   ],
   "source": [
    "import seaborn as sns\n",
    "from sklearn.metrics import confusion_matrix, ConfusionMatrixDisplay\n",
    "y_pred = model_2.predict(x_test)\n",
    "y_pred_classes = np.argmax(y_pred, axis=1)\n",
    "cm = confusion_matrix(y_test, y_pred_classes)\n",
    "cmd = ConfusionMatrixDisplay(cm, display_labels=classes['Name'])\n",
    "cmd.plot()\n",
    "cmd.ax_.set(xlabel='Predicted', ylabel='True')\n",
    "plt.show()"
   ]
  },
  {
   "cell_type": "code",
   "execution_count": null,
   "metadata": {},
   "outputs": [],
   "source": []
  }
 ],
 "metadata": {
  "kernelspec": {
   "display_name": "Python 3",
   "language": "python",
   "name": "python3"
  },
  "language_info": {
   "codemirror_mode": {
    "name": "ipython",
    "version": 3
   },
   "file_extension": ".py",
   "mimetype": "text/x-python",
   "name": "python",
   "nbconvert_exporter": "python",
   "pygments_lexer": "ipython3",
   "version": "3.8.3"
  }
 },
 "nbformat": 4,
 "nbformat_minor": 4
}
